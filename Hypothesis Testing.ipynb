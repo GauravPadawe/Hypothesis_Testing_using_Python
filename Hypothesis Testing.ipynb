{
 "cells": [
  {
   "cell_type": "markdown",
   "metadata": {},
   "source": [
    "<center>\n",
    "    <h1>Hypothesis Testing</h1>\n",
    "    <h6>Author : Gaurav Padawe</h6>\n",
    "</center>\n",
    "\n",
    "**What is Hypothesis Testing ?**\n",
    "\n",
    "- Its a statistical concept used in making decisions that are solely based on statistics.\n",
    "\n",
    "\n",
    "- To conduct Hypothesis Test we need Normalized data, i.e, Gaussian Distribution (Normally distributed data).\n",
    "\n",
    "\n",
    "<img src=\"https://www.ttested.com/gallery/thumbnails/generating-normal-random-variables-part-1.png\">\n",
    "\n",
    "\n",
    "- Normally distributed data has a **equal value** for the Measures of **Central Tendency (mean, median and mode)**\n",
    "\n",
    "\n",
    "- We can also convert Normally Distributed Data to a Standard form wherein mean is 0 and standard deviation is 1. And that process of conversion is termed as Standardization.\n",
    "\n",
    "\n",
    "<img src=\"https://www.mathsisfun.com/data/images/standardizing.svg\">\n",
    "\n",
    "\n",
    "- Normal distribution / Standardized distribution always has a shape of Bell after we visualize the data and hence we term it as **\"Bell Curve\".**\n",
    "\n",
    "\n",
    "- We also call Normal Distribution as **Gaussian Distribution.**\n",
    "\n",
    "\n",
    "- Some properties of Standard Normal distribution are as follows (Refer Image) :\n",
    "\n",
    "\n",
    "<img src=\"https://www.leansixsigmadefinition.com/wp-content/uploads/2019/04/gaussian_distribution.png\">\n",
    "\n",
    "\n",
    "- To convert Normally distributed data to Standard Normal distribution we go according to the Formula Stated Below :\n",
    "\n",
    "\n",
    "<img src='http://lrieber.coe.uga.edu/edit6900/resources/z_formula_large.gif?crop'>\n",
    "\n",
    "\n",
    "- In this section we're going to deep dive into Hypothesis Testing using Python.\n",
    "\n",
    "\n",
    "- Some of the topics we're going to explore are :\n",
    "\n",
    "\n",
    "    - Null Hypothesis & Alternate Hypothesis\n",
    "    - Significance Level\n",
    "    - Types of Errors\n",
    "    - One Sample T-test\n",
    "    - Two-tailed test & One-tailed test\n",
    "    - Levene's test\n",
    "    - Two Sample T-test (Independent T-test)"
   ]
  },
  {
   "cell_type": "code",
   "execution_count": 1,
   "metadata": {},
   "outputs": [],
   "source": [
    "#importing required libraries\n",
    "\n",
    "import pandas as pd                                            #dataframes\n",
    "import matplotlib.pyplot as plt                                #visuals\n",
    "import seaborn as sns                                          #visuals\n",
    "from scipy.stats import ttest_1samp, ttest_ind, levene         #statistical tests\n",
    "import statsmodels.stats.api as sms                            #statistical tests"
   ]
  },
  {
   "cell_type": "code",
   "execution_count": 2,
   "metadata": {},
   "outputs": [
    {
     "data": {
      "text/html": [
       "<div>\n",
       "<style scoped>\n",
       "    .dataframe tbody tr th:only-of-type {\n",
       "        vertical-align: middle;\n",
       "    }\n",
       "\n",
       "    .dataframe tbody tr th {\n",
       "        vertical-align: top;\n",
       "    }\n",
       "\n",
       "    .dataframe thead th {\n",
       "        text-align: right;\n",
       "    }\n",
       "</style>\n",
       "<table border=\"1\" class=\"dataframe\">\n",
       "  <thead>\n",
       "    <tr style=\"text-align: right;\">\n",
       "      <th></th>\n",
       "      <th>Item_Identifier</th>\n",
       "      <th>Item_Weight</th>\n",
       "      <th>Item_Fat_Content</th>\n",
       "      <th>Item_Visibility</th>\n",
       "      <th>Item_Type</th>\n",
       "      <th>Item_MRP</th>\n",
       "      <th>Outlet_Identifier</th>\n",
       "      <th>Outlet_Establishment_Year</th>\n",
       "      <th>Outlet_Size</th>\n",
       "      <th>Outlet_Location_Type</th>\n",
       "      <th>Outlet_Type</th>\n",
       "      <th>Item_Outlet_Sales</th>\n",
       "    </tr>\n",
       "  </thead>\n",
       "  <tbody>\n",
       "    <tr>\n",
       "      <th>0</th>\n",
       "      <td>FDA15</td>\n",
       "      <td>9.300</td>\n",
       "      <td>Low Fat</td>\n",
       "      <td>0.016047</td>\n",
       "      <td>Dairy</td>\n",
       "      <td>249.8092</td>\n",
       "      <td>OUT049</td>\n",
       "      <td>1999</td>\n",
       "      <td>Medium</td>\n",
       "      <td>Tier 1</td>\n",
       "      <td>Supermarket Type1</td>\n",
       "      <td>3735.1380</td>\n",
       "    </tr>\n",
       "    <tr>\n",
       "      <th>11</th>\n",
       "      <td>FDA03</td>\n",
       "      <td>18.500</td>\n",
       "      <td>Regular</td>\n",
       "      <td>0.045464</td>\n",
       "      <td>Dairy</td>\n",
       "      <td>144.1102</td>\n",
       "      <td>OUT046</td>\n",
       "      <td>1997</td>\n",
       "      <td>Small</td>\n",
       "      <td>Tier 1</td>\n",
       "      <td>Supermarket Type1</td>\n",
       "      <td>2187.1530</td>\n",
       "    </tr>\n",
       "    <tr>\n",
       "      <th>40</th>\n",
       "      <td>FDU02</td>\n",
       "      <td>13.350</td>\n",
       "      <td>Low Fat</td>\n",
       "      <td>0.102512</td>\n",
       "      <td>Dairy</td>\n",
       "      <td>230.6352</td>\n",
       "      <td>OUT046</td>\n",
       "      <td>1997</td>\n",
       "      <td>Small</td>\n",
       "      <td>Tier 1</td>\n",
       "      <td>Supermarket Type1</td>\n",
       "      <td>3435.5280</td>\n",
       "    </tr>\n",
       "    <tr>\n",
       "      <th>91</th>\n",
       "      <td>DRG27</td>\n",
       "      <td>8.895</td>\n",
       "      <td>Low Fat</td>\n",
       "      <td>0.105274</td>\n",
       "      <td>Dairy</td>\n",
       "      <td>39.9138</td>\n",
       "      <td>OUT049</td>\n",
       "      <td>1999</td>\n",
       "      <td>Medium</td>\n",
       "      <td>Tier 1</td>\n",
       "      <td>Supermarket Type1</td>\n",
       "      <td>690.4346</td>\n",
       "    </tr>\n",
       "    <tr>\n",
       "      <th>110</th>\n",
       "      <td>FDD03</td>\n",
       "      <td>13.300</td>\n",
       "      <td>Low Fat</td>\n",
       "      <td>0.079806</td>\n",
       "      <td>Dairy</td>\n",
       "      <td>232.5300</td>\n",
       "      <td>OUT046</td>\n",
       "      <td>1997</td>\n",
       "      <td>Small</td>\n",
       "      <td>Tier 1</td>\n",
       "      <td>Supermarket Type1</td>\n",
       "      <td>699.0900</td>\n",
       "    </tr>\n",
       "  </tbody>\n",
       "</table>\n",
       "</div>"
      ],
      "text/plain": [
       "    Item_Identifier  Item_Weight Item_Fat_Content  Item_Visibility Item_Type  \\\n",
       "0             FDA15        9.300          Low Fat         0.016047     Dairy   \n",
       "11            FDA03       18.500          Regular         0.045464     Dairy   \n",
       "40            FDU02       13.350          Low Fat         0.102512     Dairy   \n",
       "91            DRG27        8.895          Low Fat         0.105274     Dairy   \n",
       "110           FDD03       13.300          Low Fat         0.079806     Dairy   \n",
       "\n",
       "     Item_MRP Outlet_Identifier  Outlet_Establishment_Year Outlet_Size  \\\n",
       "0    249.8092            OUT049                       1999      Medium   \n",
       "11   144.1102            OUT046                       1997       Small   \n",
       "40   230.6352            OUT046                       1997       Small   \n",
       "91    39.9138            OUT049                       1999      Medium   \n",
       "110  232.5300            OUT046                       1997       Small   \n",
       "\n",
       "    Outlet_Location_Type        Outlet_Type  Item_Outlet_Sales  \n",
       "0                 Tier 1  Supermarket Type1          3735.1380  \n",
       "11                Tier 1  Supermarket Type1          2187.1530  \n",
       "40                Tier 1  Supermarket Type1          3435.5280  \n",
       "91                Tier 1  Supermarket Type1           690.4346  \n",
       "110               Tier 1  Supermarket Type1           699.0900  "
      ]
     },
     "execution_count": 2,
     "metadata": {},
     "output_type": "execute_result"
    }
   ],
   "source": [
    "#reading dataset\n",
    "\n",
    "df = pd.read_csv('C:/Users/Gaurav/Desktop/Files/DS/Retail Analytics/Sale Prediction/Train_Retail.csv')\n",
    "df = df[(df['Item_Type'] == 'Dairy') & (df['Outlet_Location_Type'] == 'Tier 1') & (df['Outlet_Type'] == 'Supermarket Type1')]\n",
    "df.head()"
   ]
  },
  {
   "cell_type": "markdown",
   "metadata": {},
   "source": [
    "- In here we've sales data from Supermakets of Type 1 in a Tier-1 city wherein we've Medium & Small sized retail outlets.\n",
    "\n",
    "\n",
    "- We're specifically targetting dairy products.\n",
    "\n",
    "\n",
    "- My initial assumption is that Medium & Small sized outlets from Tier-1 city are experiencing similar Sales of Dairy products. This the basis of our Hypothesis Test.\n",
    "\n",
    "\n",
    "- Primary features in this case are **Outlet_Size** & **Item_Outlet_Sales**"
   ]
  },
  {
   "cell_type": "code",
   "execution_count": 3,
   "metadata": {},
   "outputs": [
    {
     "data": {
      "text/plain": [
       "Item_Identifier              0\n",
       "Item_Weight                  0\n",
       "Item_Fat_Content             0\n",
       "Item_Visibility              0\n",
       "Item_Type                    0\n",
       "Item_MRP                     0\n",
       "Outlet_Identifier            0\n",
       "Outlet_Establishment_Year    0\n",
       "Outlet_Size                  0\n",
       "Outlet_Location_Type         0\n",
       "Outlet_Type                  0\n",
       "Item_Outlet_Sales            0\n",
       "dtype: int64"
      ]
     },
     "execution_count": 3,
     "metadata": {},
     "output_type": "execute_result"
    }
   ],
   "source": [
    "#examining Missing values\n",
    "\n",
    "df.isnull().sum()"
   ]
  },
  {
   "cell_type": "code",
   "execution_count": 4,
   "metadata": {
    "scrolled": true
   },
   "outputs": [
    {
     "data": {
      "text/html": [
       "<div>\n",
       "<style scoped>\n",
       "    .dataframe tbody tr th:only-of-type {\n",
       "        vertical-align: middle;\n",
       "    }\n",
       "\n",
       "    .dataframe tbody tr th {\n",
       "        vertical-align: top;\n",
       "    }\n",
       "\n",
       "    .dataframe thead th {\n",
       "        text-align: right;\n",
       "    }\n",
       "</style>\n",
       "<table border=\"1\" class=\"dataframe\">\n",
       "  <thead>\n",
       "    <tr style=\"text-align: right;\">\n",
       "      <th></th>\n",
       "      <th>count</th>\n",
       "      <th>mean</th>\n",
       "      <th>std</th>\n",
       "      <th>min</th>\n",
       "      <th>25%</th>\n",
       "      <th>50%</th>\n",
       "      <th>75%</th>\n",
       "      <th>max</th>\n",
       "    </tr>\n",
       "    <tr>\n",
       "      <th>Outlet_Size</th>\n",
       "      <th></th>\n",
       "      <th></th>\n",
       "      <th></th>\n",
       "      <th></th>\n",
       "      <th></th>\n",
       "      <th></th>\n",
       "      <th></th>\n",
       "      <th></th>\n",
       "    </tr>\n",
       "  </thead>\n",
       "  <tbody>\n",
       "    <tr>\n",
       "      <th>Medium</th>\n",
       "      <td>78.0</td>\n",
       "      <td>2303.599713</td>\n",
       "      <td>1404.915157</td>\n",
       "      <td>243.6828</td>\n",
       "      <td>1158.4920</td>\n",
       "      <td>1953.4572</td>\n",
       "      <td>3334.6593</td>\n",
       "      <td>7646.0472</td>\n",
       "    </tr>\n",
       "    <tr>\n",
       "      <th>Small</th>\n",
       "      <td>78.0</td>\n",
       "      <td>2244.693485</td>\n",
       "      <td>1587.949681</td>\n",
       "      <td>236.3590</td>\n",
       "      <td>1031.3242</td>\n",
       "      <td>1600.9161</td>\n",
       "      <td>3275.7360</td>\n",
       "      <td>7833.8028</td>\n",
       "    </tr>\n",
       "  </tbody>\n",
       "</table>\n",
       "</div>"
      ],
      "text/plain": [
       "             count         mean          std       min        25%        50%  \\\n",
       "Outlet_Size                                                                    \n",
       "Medium        78.0  2303.599713  1404.915157  243.6828  1158.4920  1953.4572   \n",
       "Small         78.0  2244.693485  1587.949681  236.3590  1031.3242  1600.9161   \n",
       "\n",
       "                   75%        max  \n",
       "Outlet_Size                        \n",
       "Medium       3334.6593  7646.0472  \n",
       "Small        3275.7360  7833.8028  "
      ]
     },
     "execution_count": 4,
     "metadata": {},
     "output_type": "execute_result"
    }
   ],
   "source": [
    "#descriptive statistics\n",
    "\n",
    "des_stat = df.groupby('Outlet_Size')['Item_Outlet_Sales'].describe()\n",
    "des_stat"
   ]
  },
  {
   "cell_type": "markdown",
   "metadata": {},
   "source": [
    "- Above we can observe the distribution for both - Medium & Small sized Outlet Sales of Dairy Products.\n",
    "\n",
    "\n",
    "- We can observe we've 78 records for each category - Medium & Small.\n",
    "\n",
    "\n",
    "- Further, we can notice that the Mean of Medium sized outlet's sales is 2304 and its more than the average sales of Small sized outlet Sales.\n",
    "\n",
    "\n",
    "- Another observation is Standard deviation of Dairy Sales in Small sized outlet is 1588 compared to Medium one's.\n",
    "\n",
    "\n",
    "- Interestingly, Small sized outlet experienced Max. Dairy Sales at once."
   ]
  },
  {
   "cell_type": "code",
   "execution_count": 5,
   "metadata": {},
   "outputs": [],
   "source": [
    "#split the data\n",
    "\n",
    "med_out = df[df.Outlet_Size == 'Medium'].sample(39, random_state=0)\n",
    "small_out = df[df.Outlet_Size == 'Small'].sample(39, random_state=0)"
   ]
  },
  {
   "cell_type": "markdown",
   "metadata": {},
   "source": [
    "- Above code splits the data by Categories - Medium & Small.\n",
    "\n",
    "\n",
    "- From the data we pick 39 samples (50% of the categorized data) at Random."
   ]
  },
  {
   "cell_type": "code",
   "execution_count": 6,
   "metadata": {
    "scrolled": false
   },
   "outputs": [
    {
     "data": {
      "text/plain": [
       "Text(0.5, 1.0, 'Sample Distribution of Medium & Small Outlet Sales')"
      ]
     },
     "execution_count": 6,
     "metadata": {},
     "output_type": "execute_result"
    },
    {
     "data": {
      "image/png": "[encoded data removed]",
      "text/plain": [
       "<Figure size 504x792 with 2 Axes>"
      ]
     },
     "metadata": {
      "needs_background": "light"
     },
     "output_type": "display_data"
    }
   ],
   "source": [
    "#Visualizing the spread of total sales over categories\n",
    "\n",
    "#sns.set_context('talk')\n",
    "plt.figure(figsize=(7,11))\n",
    "plt.subplots_adjust(hspace=0.3)\n",
    "\n",
    "plt.subplot(2, 1, 1)\n",
    "#sns.kdeplot(df[df.Outlet_Size == 'Medium'].iloc[:,-1], color='olive', shade=True)\n",
    "#sns.kdeplot(df[df.Outlet_Size == 'Small'].iloc[:,-1], color='grey', shade=True)\n",
    "sns.kdeplot(df.iloc[:,-1], color='olive', shade=True)\n",
    "#plt.legend(['Medium Outlet','Small Outlet'])\n",
    "#plt.axvline(des_stat.iloc[0, 1], color='green', linestyle='--')\n",
    "plt.axvline(df.iloc[:,-1].mean(), color='black', linestyle='--')\n",
    "plt.xlabel('Item Outlet Sales')\n",
    "plt.title('Population Distribution Item Outlet Sales')\n",
    "\n",
    "plt.subplot(2, 1, 2)\n",
    "sns.kdeplot(med_out['Item_Outlet_Sales'], color='teal', shade=True)\n",
    "sns.kdeplot(small_out['Item_Outlet_Sales'], color='crimson', shade=True)\n",
    "plt.legend(['Medium Outlet','Small Outlet'])\n",
    "plt.axvline(med_out.Item_Outlet_Sales.mean(), color='indigo', linestyle='--')\n",
    "plt.axvline(small_out.Item_Outlet_Sales.mean(), color='brown', linestyle='--')\n",
    "plt.xlabel('Item Outlet Sales')\n",
    "plt.title('Sample Distribution of Medium & Small Outlet Sales')"
   ]
  },
  {
   "cell_type": "markdown",
   "metadata": {},
   "source": [
    "- In above visuals we can observe the Spread of Population Sales and then we can observe spread of Sample sales.\n",
    "\n",
    "\n",
    "- Both visuals are split by categories.\n",
    "\n",
    "\n",
    "- In both visuals we can notice that the mean is between 1500 - 2500."
   ]
  },
  {
   "cell_type": "markdown",
   "metadata": {},
   "source": [
    "### Null and Alternate Hypothesis\n",
    "\n",
    "\n",
    "- **Null Hypothesis :** Null hypothesis is our initial assumption. It is based on domain knowledge. E.g : Sample Mean = Population Mean, Average Sales every week is 100 USD.\n",
    "\n",
    "\n",
    "- **Alternate Hypothesis :** Alternate hypothesis is opposite to Null hypothesis. E.g : Sample Mean ≠ Population Mean, Average sales every week is more/less than 100 USD.\n",
    "\n",
    "\n",
    "### Level of Significance\n",
    "\n",
    "- It is a threshold wherein we either accept or reject Null hypothesis.\n",
    "\n",
    "\n",
    "- It is denoted by **Alpha (α)** and default value of it on a probablistic scale is **0.05 (5%).**\n",
    "\n",
    "\n",
    "- If our p-Value is under 0.05 or 5% then we reject Null hypothesis in favor of Alternate hypothesis but if value is greater than or equals to 0.05 then we accept our Null hypothesis.\n",
    "\n",
    "\n",
    "- In a way, accepting Null hypothesis meaning our initial assumption is right and it falls under the acceptance region of **95%**. Acceptance region is also known as **Confidence Interval** which has Lower and Upper limit.\n",
    "\n",
    "\n",
    "<img src='https://miro.medium.com/max/484/1*UW92hOUSdgyUhSQH2YOwKQ.png'>\n",
    "\n",
    "- In the image above we can see that there are 2 critical regions (in Grey) on either sides, i.e, Rejection region of 0.025% each. (Alpha / 2)\n",
    "\n",
    "\n",
    "- While, in the middle we've Acceptance Region which comprises of 95%.\n",
    "\n",
    "\n",
    "### Types of Errors\n",
    "\n",
    "\n",
    "- **Type-I Error :** We reject the null hypothesis even when that hypothesis was true.\n",
    "\n",
    "\n",
    "- **Type-II Error :** We accept the null hypothesis but it is false.\n",
    "\n",
    "\n",
    "### One sample T- test\n",
    "\n",
    "- This is a two-sided test for the null hypothesis that the expected value (mean) of a sample of independent observations is equal to the given population mean.\n",
    "\n",
    "\n",
    "- **Note :** By default Scipy performs **Two-tailed test.**\n",
    "\n",
    "#### Two-Tailed Test\n",
    "\n",
    "- In Two-tailed test the critical / rejection region are on two sides. It tests wheather the sample mean is greater than or less than given Population mean or any value that belongs to Null hypothesis.\n",
    "\n",
    "\n",
    "- We use Two-tailed test when we are unsure if value is greater or less than Specified value.\n",
    "\n",
    "\n",
    "<img src=\"https://i1.wp.com/statisticsbyjim.com/wp-content/uploads/2018/11/t-test_two_tails_05.png?resize=576%2C384\">"
   ]
  },
  {
   "cell_type": "code",
   "execution_count": 7,
   "metadata": {},
   "outputs": [
    {
     "name": "stdout",
     "output_type": "stream",
     "text": [
      "Population Mean of Sales : 2274.15 \n",
      "\n",
      "Sample Mean of Sales in Medium Outlet : 1946.77 \n",
      "\n",
      "Sample Mean of Sales in Smaller Outlet : 2352.03\n"
     ]
    }
   ],
   "source": [
    "#Average values\n",
    "\n",
    "pop_mean = df.Item_Outlet_Sales.mean()\n",
    "med_out_mean = med_out.Item_Outlet_Sales.mean()\n",
    "small_out_mean = small_out.Item_Outlet_Sales.mean()\n",
    "\n",
    "print ('Population Mean of Sales : {:.2f}'.format(pop_mean), '\\n')\n",
    "print ('Sample Mean of Sales in Medium Outlet : {:.2f}'.format(med_out_mean), '\\n')\n",
    "print ('Sample Mean of Sales in Smaller Outlet : {:.2f}'.format(small_out_mean))"
   ]
  },
  {
   "cell_type": "markdown",
   "metadata": {},
   "source": [
    "#### Test Case - For Medium Sized Outlet\n",
    "\n",
    "\n",
    "- We assume that Sample Mean of Dairy Sales in Medium Sized Outlet is equaling Population Mean which becomes our Null Hypothesis. Alternate Hypothesis is Opposite to our Initial assumption. \n",
    "\n",
    "\n",
    "    - Null Hypothesis (h_0) : x̄ = μ (Sample Mean = Population Mean)\n",
    "    - Alternate Hypothesis (h_1) : x̄ ≠ μ (Sample Mean ≠ Population Mean)\n",
    "\n",
    "\n",
    "- Level of Significance = 0.05 , i.e, 5%\n",
    "\n",
    "\n",
    "- If p-value is less than 0.05 then we will reject null hypothesis in favor of Alternate hypothesis but if p-value is above 0.05 then we cannot reject null hypothesis."
   ]
  },
  {
   "cell_type": "code",
   "execution_count": 8,
   "metadata": {},
   "outputs": [
    {
     "name": "stdout",
     "output_type": "stream",
     "text": [
      "Test Statistics : -1.8230\n",
      "Alpha :  0.05\n",
      "p-Value : 0.08\n",
      "Confidence Interval Lower-Upper Range :  (1583.2157287749649, 2310.3143840455477) \n",
      "\n",
      "Accept Null Hypothesis\n"
     ]
    }
   ],
   "source": [
    "## For Medium sized outlet sample dist\n",
    "\n",
    "MO_1_samp_test = ttest_1samp(med_out['Item_Outlet_Sales'].values, pop_mean)\n",
    "\n",
    "print ('Test Statistics : {:.4f}'.format(MO_1_samp_test.statistic))\n",
    "print ('Alpha : ', 0.05)\n",
    "print ('p-Value : {:.2f}'.format(MO_1_samp_test.pvalue))\n",
    "print ('Confidence Interval Lower-Upper Range : ', sms.DescrStatsW(med_out['Item_Outlet_Sales']).tconfint_mean(), '\\n')\n",
    "\n",
    "if MO_1_samp_test.pvalue > 0.05:\n",
    "    print('Accept Null Hypothesis')\n",
    "else:\n",
    "    print('Reject Null Hypothesis ')"
   ]
  },
  {
   "cell_type": "markdown",
   "metadata": {},
   "source": [
    "- Looking at the above result since p-value is more than 5% we can reject Alternate Hypothesis in favor of Null Hypothesis, i.e, Sample Means = Population Mean.\n",
    "\n",
    "\n",
    "- Now Let's see if our hypothesis is actually True \n",
    "\n",
    "\n",
    "    - Sample Mean = 1946.77\n",
    "    - Population Mean = 2274.15\n",
    "    \n",
    "- Our Null hypothesis states that Sample Mean = Population Mean but we can see that it is not equal.\n",
    "\n",
    "\n",
    "- We accept Null hypothesis since our Sample mean (1946.77) falls in the range of 95% acceptance zone (Confidence interval) which ranging from **1583 to 2310** and not in the Critical area on either side.\n",
    "\n",
    "\n",
    "- Hence, we fail to reject Null hypothesis."
   ]
  },
  {
   "cell_type": "markdown",
   "metadata": {},
   "source": [
    "#### Test case - For Small Sized Outlet\n",
    "\n",
    "- We assume similar hypothesis in this scenario too, i.e, Sample Mean of Sales in Small Sized Outlet is equaling Population Mean which is our Null Hypothesis. Alternate Hypothesis is Opposite to our Initial assumption.\n",
    "\n",
    "\n",
    "    - Null Hypothesis (h_0) : x̄ = μ (Sample Mean = Population Mean)\n",
    "    - Alternate Hypothesis (h_1) : x̄ ≠ μ (Sample Mean ≠ Population Mean)"
   ]
  },
  {
   "cell_type": "code",
   "execution_count": 9,
   "metadata": {
    "scrolled": true
   },
   "outputs": [
    {
     "name": "stdout",
     "output_type": "stream",
     "text": [
      "Test Statistics : 0.3139\n",
      "Alpha :  0.05\n",
      "p-Value : 0.76\n",
      "Confidence Interval Lower-Upper Range :  (1849.8092831561553, 2854.255506587434) \n",
      "\n",
      "Accept Null Hypothesis\n"
     ]
    }
   ],
   "source": [
    "## For Small sized outlet sample dist\n",
    "\n",
    "SO_1_samp_test = ttest_1samp(small_out['Item_Outlet_Sales'].values, pop_mean)\n",
    "\n",
    "print ('Test Statistics : {:.4f}'.format(SO_1_samp_test.statistic))\n",
    "print ('Alpha : ', 0.05)\n",
    "print ('p-Value : {:.2f}'.format(SO_1_samp_test.pvalue))\n",
    "print ('Confidence Interval Lower-Upper Range : ', sms.DescrStatsW(small_out['Item_Outlet_Sales']).tconfint_mean(), '\\n')\n",
    "\n",
    "if SO_1_samp_test.pvalue > 0.05:\n",
    "    print('Accept Null Hypothesis')\n",
    "else:\n",
    "    print('Reject Null Hypothesis ')"
   ]
  },
  {
   "cell_type": "markdown",
   "metadata": {},
   "source": [
    "- In this case as well, since p-value is more than 5% we can reject Alternate Hypothesis in favor of Null Hypothesis, i.e, Sample Means = Population Mean.\n",
    "\n",
    "\n",
    "- Now Let's see if our hypothesis is actually True \n",
    "\n",
    "\n",
    "    - Sample Mean = 2352.03\n",
    "    - Population Mean = 2274.15\n",
    "    \n",
    "- Our Null hypothesis states that Sample Mean = Population Mean but we can see that it is not equal.\n",
    "\n",
    "\n",
    "- But we accept Null hypothesis since our Sample mean (2352.03) falls in the range of 95% acceptance zone (Confidence interval) which ranging from **1849 to 2854** and not in the Critical area on either side.\n",
    "\n",
    "\n",
    "- Hence, we fail to reject Null hypothesis."
   ]
  },
  {
   "cell_type": "markdown",
   "metadata": {},
   "source": [
    "#### One Tailed Test\n",
    "\n",
    "- One-tailed hypothesis tests are also known as directional and one-sided tests because you can test for effects in only one direction. \n",
    "\n",
    "#### Left Tailed Test\n",
    "\n",
    "\n",
    "**For Medium Sized Outlet :**\n",
    "\n",
    "\n",
    "- We assume that Sample mean of Sales of Medium Sized Retail Outlet is greater than equals to Population Mean \n",
    "\n",
    "\n",
    "    - Null Hypothesis (h_0) : x̄ >= μ (Sample Mean >= Population Mean)\n",
    "    - Alternate Hypothesis (h_1) : x̄ < μ (Sample Mean < Population Mean)\n",
    "\n",
    "\n",
    "- In such scenario, One tailed test comes into picture because it is a directional test , i.e, we're looking for critical region in either one of the direction (Left / Right).\n",
    "\n",
    "\n",
    "- Direction Prediction : Since our Null hypothesis is claiming that **Sample mean >= Population mean** , i.e, We can assume that 95% we are confident that sample mean is greater than population mean but alternate hypothesis claims that **Sample mean < Population Mean**.\n",
    "\n",
    "\n",
    "<img src=\"https://i0.wp.com/statisticsbyjim.com/wp-content/uploads/2018/11/t-test_left_tail_05.png?w=576&ssl=1\"/>\n",
    "\n",
    "\n",
    "- Above Image is representing the scenario which we assume in our case , i.e, **Left tailed test**.\n",
    "\n",
    "\n",
    "- Considering Two-tailed test, we had already got p-value as 0.08 in **Test case - Medium Sized Outlet**. By default Scipy performs Two-tailed test so in order to get p-value for one-tailed we have to divide it by 2, i.e, 0.08 / 2 = 0.04\n",
    "\n",
    "\n",
    "- Having 0.04 we know that 0.04 < 0.05 then we can reject Null hypothesis in favor of Alternate hypothesis.\n",
    "\n",
    "\n",
    "- Now Let's see if our Alternate hypothesis is actually True\n",
    "\n",
    "\n",
    "    - Sample Mean = 1946.77\n",
    "    - Population Mean = 2274.15\n",
    "\n",
    "\n",
    "- Our Null hypothesis states that Sample Mean >= Population Mean and we can see that it is False.\n",
    "\n",
    "\n",
    "- Also, our Sample mean (1946.77) doesn't fall in the range of 95% acceptance zone (Confidence interval). In directional tests our acceptance region is region that is unshaded (Refer Image). Since, sample mean falls in critical region we go in favor of Alternate hypothesis. \n",
    "\n",
    "\n",
    "#### Right Tailed Test\n",
    "\n",
    "\n",
    "**For Medium Sized Outlet :**\n",
    "\n",
    "\n",
    "- In case, we have opposite scenario where :\n",
    "\n",
    "\n",
    "    - Null Hypothesis (h_0) : x̄ <= μ (Sample Mean <= Population Mean)\n",
    "    - Alternate Hypothesis (h_1) : x̄ > μ (Sample Mean > Population Mean)\n",
    "    \n",
    "\n",
    "- Direction Prediction : Since our Null hypothesis is claiming that **Sample mean <= Population mean** , i.e, we can assume that 95% we are confident that sample mean is equals to population mean but alternate hypothesis claims that **Sample mean > Population mean**.\n",
    "\n",
    "\n",
    "<img src=\"https://i1.wp.com/statisticsbyjim.com/wp-content/uploads/2018/11/t-test_right_tail_05.png?w=576&ssl=1\"/>\n",
    "\n",
    "\n",
    "- Above Image is representing the scenario called **Right tailed test**.\n",
    "\n",
    "\n",
    "- In **Left tailed test** we already got out p-value as 0.04. Since Right tailed test is in opposite direction we just have to subtract our left-tailed p-value by 1 in order to acquire right tailed p-value , i.e, 1 - 0.04 = 0.96. So our right tailed p-value is 0.96.\n",
    "\n",
    "\n",
    "- Having 96% we can reject alternate hypothesis in favor of Null hypothesis. But let's perform fact check.\n",
    "\n",
    "\n",
    "- Now Let's see if our Alternate hypothesis is actually True\n",
    "\n",
    "\n",
    "    - Sample Mean = 1946.77\n",
    "    - Population Mean = 2274.15\n",
    "\n",
    "\n",
    "- Our Null hypothesis states that Sample Mean <= Population Mean and it is True.\n",
    "\n",
    "\n",
    "- Hence, we are right in case of rejecting Alternate hypothesis."
   ]
  },
  {
   "cell_type": "markdown",
   "metadata": {},
   "source": [
    "### Two sample T- test\n",
    "\n",
    "- In the two-sample test, we test the equality of means of two sample distributions against each other.\n",
    "\n",
    "\n",
    "#### Test case - Levene's Test for Variance Equality check\n",
    "\n",
    "- Before we conduct Two-tailed test we need to check if the variances of both the distributions are same. For that we need to perform Levene's test.\n",
    "\n",
    "\n",
    "    - Null Hypothesis (h_0) : Variance of Medium Outlet Sales = Variance of Small sized outlet Sales\n",
    "    - Alternate Hypothesis (h_1) : Variance of Medium Outlet Sales ≠ Variance of Small sized outlet Sales"
   ]
  },
  {
   "cell_type": "code",
   "execution_count": 21,
   "metadata": {},
   "outputs": [
    {
     "name": "stdout",
     "output_type": "stream",
     "text": [
      "Test Statistics : 8.4770\n",
      "Alpha :  0.05\n",
      "p-Value : 0.00472 \n",
      "\n",
      "Reject Null Hypothesis \n"
     ]
    }
   ],
   "source": [
    "#Levene's test to check whether the variances of the two group are same.\n",
    "\n",
    "levene_test = levene(med_out['Item_Outlet_Sales'].values, small_out['Item_Outlet_Sales'], center='mean')\n",
    "\n",
    "print ('Test Statistics : {:.4f}'.format(levene_test.statistic))\n",
    "print ('Alpha : ', 0.05)\n",
    "print ('p-Value : {:.5f}'.format(levene_test.pvalue), '\\n')\n",
    "\n",
    "if levene_test.pvalue > 0.05:\n",
    "    print('Accept Null Hypothesis')\n",
    "else:\n",
    "    print('Reject Null Hypothesis ')"
   ]
  },
  {
   "cell_type": "markdown",
   "metadata": {},
   "source": [
    "- We can see above that p-value is slightly less than 0.05 so we reject Null hypothesis.\n",
    "\n",
    "\n",
    "- By Levene's test we conclude that variances are not same.\n",
    "\n",
    "\n",
    "- In Two-sample t-test we have parameter called \"equal_var\" which is True by default, but we'll set it as False as per Levene's test result.\n",
    "\n",
    "\n",
    "#### Test case - Two-sample ttest\n",
    "\n",
    "    - Null Hypothesis (h_0) : Mean of Medium sized Outlet Sales = Mean of Small sized Outlet Sales.\n",
    "    - Alternate Hypothesis (h_1) : Mean of Medium sized Outlet Sales ≠ Mean of Small sized Outlet Sales."
   ]
  },
  {
   "cell_type": "code",
   "execution_count": 25,
   "metadata": {},
   "outputs": [
    {
     "name": "stdout",
     "output_type": "stream",
     "text": [
      "Test Statistics : -1.3233\n",
      "Alpha :  0.05\n",
      "p-Value : 0.19 \n",
      "\n",
      "Accept Null Hypothesis\n"
     ]
    }
   ],
   "source": [
    "#two-sample t-test\n",
    "\n",
    "two_samp_ttest = ttest_ind(med_out['Item_Outlet_Sales'].values, small_out['Item_Outlet_Sales'], equal_var=False)\n",
    "\n",
    "print ('Test Statistics : {:.4f}'.format(two_samp_ttest.statistic))\n",
    "print ('Alpha : ', 0.05)\n",
    "print ('p-Value : {:.2f}'.format(two_samp_ttest.pvalue), '\\n')\n",
    "\n",
    "if two_samp_ttest.pvalue > 0.05:\n",
    "    print('Accept Null Hypothesis')\n",
    "else:\n",
    "    print('Reject Null Hypothesis ')"
   ]
  },
  {
   "cell_type": "markdown",
   "metadata": {},
   "source": [
    "- We've got p-value of 0.19 which indicates that Mean of Medium sized Outlet Sales = Mean of Small sized Outlet Sales. Hence, we go with Null Hypothesis."
   ]
  },
  {
   "cell_type": "markdown",
   "metadata": {},
   "source": [
    "### FAQ \n",
    "\n",
    "- **One-tailed test or Two-tailed test ?**\n",
    "\n",
    "**Ans.:** It is solely based on problem statement. If you've been told to test weather the average sale is \"greater\" or \"lower\" then in such case you need to choose One-tailed test. But In case you're not sure if its \"lower\" or \"greater\" then choose Two-tailed test."
   ]
  }
 ],
 "metadata": {
  "kernelspec": {
   "display_name": "Python 3",
   "language": "python",
   "name": "python3"
  },
  "language_info": {
   "codemirror_mode": {
    "name": "ipython",
    "version": 3
   },
   "file_extension": ".py",
   "mimetype": "text/x-python",
   "name": "python",
   "nbconvert_exporter": "python",
   "pygments_lexer": "ipython3",
   "version": "3.7.6"
  }
 },
 "nbformat": 4,
 "nbformat_minor": 4
}
